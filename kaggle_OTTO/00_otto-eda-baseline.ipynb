{
 "cells": [
  {
   "cell_type": "markdown",
   "id": "f9c4aafe",
   "metadata": {
    "papermill": {
     "duration": 0.009076,
     "end_time": "2022-12-18T14:03:56.750678",
     "exception": false,
     "start_time": "2022-12-18T14:03:56.741602",
     "status": "completed"
    },
    "tags": []
   },
   "source": [
    "- https://www.kaggle.com/code/edwardcrookenden/otto-getting-started-eda-baseline"
   ]
  },
  {
   "cell_type": "code",
   "execution_count": 1,
   "id": "2e13d9b7",
   "metadata": {
    "_cell_guid": "b1076dfc-b9ad-4769-8c92-a6c4dae69d19",
    "_uuid": "8f2839f25d086af736a60e9eeb907d3b93b6e0e5",
    "execution": {
     "iopub.execute_input": "2022-12-18T14:03:56.769954Z",
     "iopub.status.busy": "2022-12-18T14:03:56.768985Z",
     "iopub.status.idle": "2022-12-18T14:03:56.785390Z",
     "shell.execute_reply": "2022-12-18T14:03:56.784129Z"
    },
    "papermill": {
     "duration": 0.029131,
     "end_time": "2022-12-18T14:03:56.788088",
     "exception": false,
     "start_time": "2022-12-18T14:03:56.758957",
     "status": "completed"
    },
    "tags": []
   },
   "outputs": [
    {
     "name": "stdout",
     "output_type": "stream",
     "text": [
      "/kaggle/input/otto-recommender-system/sample_submission.csv\n",
      "/kaggle/input/otto-recommender-system/test.jsonl\n",
      "/kaggle/input/otto-recommender-system/train.jsonl\n"
     ]
    }
   ],
   "source": [
    "# This Python 3 environment comes with many helpful analytics libraries installed\n",
    "# It is defined by the kaggle/python Docker image: https://github.com/kaggle/docker-python\n",
    "# For example, here's several helpful packages to load\n",
    "\n",
    "import numpy as np # linear algebra\n",
    "import pandas as pd # data processing, CSV file I/O (e.g. pd.read_csv)\n",
    "\n",
    "# Input data files are available in the read-only \"../input/\" directory\n",
    "# For example, running this (by clicking run or pressing Shift+Enter) will list all files under the input directory\n",
    "\n",
    "import os\n",
    "for dirname, _, filenames in os.walk('/kaggle/input'):\n",
    "    for filename in filenames:\n",
    "        print(os.path.join(dirname, filename))\n",
    "\n",
    "# You can write up to 20GB to the current directory (/kaggle/working/) that gets preserved as output when you create a version using \"Save & Run All\" \n",
    "# You can also write temporary files to /kaggle/temp/, but they won't be saved outside of the current session"
   ]
  },
  {
   "cell_type": "code",
   "execution_count": 2,
   "id": "d5f850fd",
   "metadata": {
    "execution": {
     "iopub.execute_input": "2022-12-18T14:03:56.805689Z",
     "iopub.status.busy": "2022-12-18T14:03:56.805017Z",
     "iopub.status.idle": "2022-12-18T14:03:57.899644Z",
     "shell.execute_reply": "2022-12-18T14:03:57.898480Z"
    },
    "papermill": {
     "duration": 1.106734,
     "end_time": "2022-12-18T14:03:57.902526",
     "exception": false,
     "start_time": "2022-12-18T14:03:56.795792",
     "status": "completed"
    },
    "tags": []
   },
   "outputs": [],
   "source": [
    "from pathlib import Path\n",
    "import os\n",
    "import random\n",
    "import json\n",
    "from datetime import timedelta\n",
    "from collections import Counter\n",
    "from tqdm.notebook import tqdm\n",
    "from heapq import nlargest\n",
    "\n",
    "import matplotlib.pyplot as plt\n",
    "import seaborn as sns\n",
    "\n",
    "import warnings\n",
    "warnings.filterwarnings('ignore')"
   ]
  },
  {
   "cell_type": "code",
   "execution_count": 3,
   "id": "d37d6994",
   "metadata": {
    "execution": {
     "iopub.execute_input": "2022-12-18T14:03:57.920100Z",
     "iopub.status.busy": "2022-12-18T14:03:57.919686Z",
     "iopub.status.idle": "2022-12-18T14:03:59.015690Z",
     "shell.execute_reply": "2022-12-18T14:03:59.014079Z"
    },
    "papermill": {
     "duration": 1.108267,
     "end_time": "2022-12-18T14:03:59.018590",
     "exception": false,
     "start_time": "2022-12-18T14:03:57.910323",
     "status": "completed"
    },
    "tags": []
   },
   "outputs": [
    {
     "name": "stdout",
     "output_type": "stream",
     "text": [
      "/kaggle/working\r\n"
     ]
    }
   ],
   "source": [
    "!pwd"
   ]
  },
  {
   "cell_type": "code",
   "execution_count": 4,
   "id": "08f306fd",
   "metadata": {
    "execution": {
     "iopub.execute_input": "2022-12-18T14:03:59.037411Z",
     "iopub.status.busy": "2022-12-18T14:03:59.036097Z",
     "iopub.status.idle": "2022-12-18T14:03:59.043116Z",
     "shell.execute_reply": "2022-12-18T14:03:59.042300Z"
    },
    "papermill": {
     "duration": 0.018834,
     "end_time": "2022-12-18T14:03:59.045378",
     "exception": false,
     "start_time": "2022-12-18T14:03:59.026544",
     "status": "completed"
    },
    "tags": []
   },
   "outputs": [],
   "source": [
    "DATA_PATH = Path('../input/otto-recommender-system')\n",
    "TRAIN_PATH = DATA_PATH/'train.jsonl'\n",
    "TEST_PATH = DATA_PATH/'test.jsonl'\n",
    "SAMPLE_SUB_PATH = Path('../input/otto-recommender-system/sample_submission.csv')"
   ]
  },
  {
   "cell_type": "code",
   "execution_count": 5,
   "id": "942e9e36",
   "metadata": {
    "execution": {
     "iopub.execute_input": "2022-12-18T14:03:59.065115Z",
     "iopub.status.busy": "2022-12-18T14:03:59.063993Z",
     "iopub.status.idle": "2022-12-18T14:03:59.074687Z",
     "shell.execute_reply": "2022-12-18T14:03:59.073278Z"
    },
    "papermill": {
     "duration": 0.023867,
     "end_time": "2022-12-18T14:03:59.077092",
     "exception": false,
     "start_time": "2022-12-18T14:03:59.053225",
     "status": "completed"
    },
    "tags": []
   },
   "outputs": [
    {
     "data": {
      "text/plain": [
       "PosixPath('../input/otto-recommender-system/train.jsonl')"
      ]
     },
     "execution_count": 5,
     "metadata": {},
     "output_type": "execute_result"
    }
   ],
   "source": [
    "TRAIN_PATH"
   ]
  },
  {
   "cell_type": "code",
   "execution_count": 6,
   "id": "9a8d0cc0",
   "metadata": {
    "execution": {
     "iopub.execute_input": "2022-12-18T14:03:59.095213Z",
     "iopub.status.busy": "2022-12-18T14:03:59.094803Z",
     "iopub.status.idle": "2022-12-18T14:06:12.675498Z",
     "shell.execute_reply": "2022-12-18T14:06:12.672777Z"
    },
    "papermill": {
     "duration": 133.610537,
     "end_time": "2022-12-18T14:06:12.695612",
     "exception": false,
     "start_time": "2022-12-18T14:03:59.085075",
     "status": "completed"
    },
    "tags": []
   },
   "outputs": [
    {
     "name": "stdout",
     "output_type": "stream",
     "text": [
      "We have 12,899,779 lines in the training data\n"
     ]
    }
   ],
   "source": [
    "with open(TRAIN_PATH, 'r') as f:\n",
    "    print(f\"We have {len(f.readlines()):,} lines in the training data\")"
   ]
  },
  {
   "cell_type": "markdown",
   "id": "b9d42bfd",
   "metadata": {
    "papermill": {
     "duration": 0.009768,
     "end_time": "2022-12-18T14:06:12.715501",
     "exception": false,
     "start_time": "2022-12-18T14:06:12.705733",
     "status": "completed"
    },
    "tags": []
   },
   "source": [
    "# Load data"
   ]
  },
  {
   "cell_type": "code",
   "execution_count": 7,
   "id": "ebb534da",
   "metadata": {
    "execution": {
     "iopub.execute_input": "2022-12-18T14:06:12.740114Z",
     "iopub.status.busy": "2022-12-18T14:06:12.739385Z",
     "iopub.status.idle": "2022-12-18T14:06:26.148738Z",
     "shell.execute_reply": "2022-12-18T14:06:26.147444Z"
    },
    "papermill": {
     "duration": 13.425831,
     "end_time": "2022-12-18T14:06:26.152733",
     "exception": false,
     "start_time": "2022-12-18T14:06:12.726902",
     "status": "completed"
    },
    "tags": []
   },
   "outputs": [],
   "source": [
    "sample_size = 100000\n",
    "\n",
    "# json형태의 데이터를 pd.DataFrame의 형태로 불러온다.\n",
    "chunks = pd.read_json(TRAIN_PATH, lines=True, chunksize=sample_size)\n",
    "\n",
    "for chunk in chunks:\n",
    "    sample_train_df = chunk\n",
    "    break"
   ]
  },
  {
   "cell_type": "code",
   "execution_count": 8,
   "id": "0876ba61",
   "metadata": {
    "execution": {
     "iopub.execute_input": "2022-12-18T14:06:26.172190Z",
     "iopub.status.busy": "2022-12-18T14:06:26.171800Z",
     "iopub.status.idle": "2022-12-18T14:06:26.286020Z",
     "shell.execute_reply": "2022-12-18T14:06:26.285159Z"
    },
    "papermill": {
     "duration": 0.126573,
     "end_time": "2022-12-18T14:06:26.288343",
     "exception": false,
     "start_time": "2022-12-18T14:06:26.161770",
     "status": "completed"
    },
    "tags": []
   },
   "outputs": [
    {
     "data": {
      "text/html": [
       "<div>\n",
       "<style scoped>\n",
       "    .dataframe tbody tr th:only-of-type {\n",
       "        vertical-align: middle;\n",
       "    }\n",
       "\n",
       "    .dataframe tbody tr th {\n",
       "        vertical-align: top;\n",
       "    }\n",
       "\n",
       "    .dataframe thead th {\n",
       "        text-align: right;\n",
       "    }\n",
       "</style>\n",
       "<table border=\"1\" class=\"dataframe\">\n",
       "  <thead>\n",
       "    <tr style=\"text-align: right;\">\n",
       "      <th></th>\n",
       "      <th>events</th>\n",
       "    </tr>\n",
       "    <tr>\n",
       "      <th>session</th>\n",
       "      <th></th>\n",
       "    </tr>\n",
       "  </thead>\n",
       "  <tbody>\n",
       "    <tr>\n",
       "      <th>0</th>\n",
       "      <td>[{'aid': 1517085, 'ts': 1659304800025, 'type':...</td>\n",
       "    </tr>\n",
       "    <tr>\n",
       "      <th>1</th>\n",
       "      <td>[{'aid': 424964, 'ts': 1659304800025, 'type': ...</td>\n",
       "    </tr>\n",
       "    <tr>\n",
       "      <th>2</th>\n",
       "      <td>[{'aid': 763743, 'ts': 1659304800038, 'type': ...</td>\n",
       "    </tr>\n",
       "    <tr>\n",
       "      <th>3</th>\n",
       "      <td>[{'aid': 1425967, 'ts': 1659304800095, 'type':...</td>\n",
       "    </tr>\n",
       "    <tr>\n",
       "      <th>4</th>\n",
       "      <td>[{'aid': 613619, 'ts': 1659304800119, 'type': ...</td>\n",
       "    </tr>\n",
       "  </tbody>\n",
       "</table>\n",
       "</div>"
      ],
      "text/plain": [
       "                                                    events\n",
       "session                                                   \n",
       "0        [{'aid': 1517085, 'ts': 1659304800025, 'type':...\n",
       "1        [{'aid': 424964, 'ts': 1659304800025, 'type': ...\n",
       "2        [{'aid': 763743, 'ts': 1659304800038, 'type': ...\n",
       "3        [{'aid': 1425967, 'ts': 1659304800095, 'type':...\n",
       "4        [{'aid': 613619, 'ts': 1659304800119, 'type': ..."
      ]
     },
     "execution_count": 8,
     "metadata": {},
     "output_type": "execute_result"
    }
   ],
   "source": [
    "sample_train_df.set_index('session', drop=True, inplace=True)\n",
    "sample_train_df.head()"
   ]
  },
  {
   "cell_type": "code",
   "execution_count": 9,
   "id": "bf58a482",
   "metadata": {
    "execution": {
     "iopub.execute_input": "2022-12-18T14:06:26.307060Z",
     "iopub.status.busy": "2022-12-18T14:06:26.305998Z",
     "iopub.status.idle": "2022-12-18T14:06:26.317734Z",
     "shell.execute_reply": "2022-12-18T14:06:26.316634Z"
    },
    "papermill": {
     "duration": 0.023288,
     "end_time": "2022-12-18T14:06:26.319865",
     "exception": false,
     "start_time": "2022-12-18T14:06:26.296577",
     "status": "completed"
    },
    "tags": []
   },
   "outputs": [
    {
     "data": {
      "text/plain": [
       "[{'aid': 424964, 'ts': 1659304800025, 'type': 'carts'},\n",
       " {'aid': 1492293, 'ts': 1659304852871, 'type': 'clicks'},\n",
       " {'aid': 1492293, 'ts': 1659304863627, 'type': 'carts'},\n",
       " {'aid': 910862, 'ts': 1659304891923, 'type': 'clicks'},\n",
       " {'aid': 910862, 'ts': 1659304900209, 'type': 'carts'},\n",
       " {'aid': 1491172, 'ts': 1659385939248, 'type': 'clicks'},\n",
       " {'aid': 1491172, 'ts': 1659385945915, 'type': 'carts'},\n",
       " {'aid': 424964, 'ts': 1659385993848, 'type': 'clicks'},\n",
       " {'aid': 1515526, 'ts': 1659386025990, 'type': 'clicks'},\n",
       " {'aid': 440486, 'ts': 1659473014870, 'type': 'clicks'},\n",
       " {'aid': 109488, 'ts': 1659473065576, 'type': 'clicks'},\n",
       " {'aid': 1507622, 'ts': 1659473076244, 'type': 'clicks'},\n",
       " {'aid': 1734061, 'ts': 1659855882096, 'type': 'clicks'},\n",
       " {'aid': 854637, 'ts': 1659990929876, 'type': 'clicks'},\n",
       " {'aid': 854637, 'ts': 1659990941327, 'type': 'carts'},\n",
       " {'aid': 718983, 'ts': 1659990943793, 'type': 'clicks'},\n",
       " {'aid': 215311, 'ts': 1659990959575, 'type': 'clicks'},\n",
       " {'aid': 215311, 'ts': 1659990964841, 'type': 'carts'},\n",
       " {'aid': 718983, 'ts': 1659990982524, 'type': 'clicks'},\n",
       " {'aid': 711125, 'ts': 1659991046608, 'type': 'clicks'},\n",
       " {'aid': 711125, 'ts': 1659991053886, 'type': 'carts'},\n",
       " {'aid': 50049, 'ts': 1659991115562, 'type': 'clicks'},\n",
       " {'aid': 105393, 'ts': 1659991156255, 'type': 'clicks'},\n",
       " {'aid': 105393, 'ts': 1659991168139, 'type': 'carts'},\n",
       " {'aid': 959544, 'ts': 1659991199405, 'type': 'clicks'},\n",
       " {'aid': 1734061, 'ts': 1660431511439, 'type': 'clicks'},\n",
       " {'aid': 1842593, 'ts': 1660857067556, 'type': 'clicks'},\n",
       " {'aid': 1464360, 'ts': 1661447432716, 'type': 'clicks'},\n",
       " {'aid': 207905, 'ts': 1661686200666, 'type': 'clicks'},\n",
       " {'aid': 1628317, 'ts': 1661686382213, 'type': 'clicks'},\n",
       " {'aid': 376932, 'ts': 1661705869789, 'type': 'clicks'},\n",
       " {'aid': 497868, 'ts': 1661714854992, 'type': 'clicks'}]"
      ]
     },
     "execution_count": 9,
     "metadata": {},
     "output_type": "execute_result"
    }
   ],
   "source": [
    "sample_train_df.iloc[1,0]"
   ]
  },
  {
   "cell_type": "markdown",
   "id": "6571c750",
   "metadata": {
    "papermill": {
     "duration": 0.007868,
     "end_time": "2022-12-18T14:06:26.336258",
     "exception": false,
     "start_time": "2022-12-18T14:06:26.328390",
     "status": "completed"
    },
    "tags": []
   },
   "source": [
    "# Data의 형태\n",
    "- `session` \n",
    "    - the unique session id. \n",
    "    - Each session contains a list of time ordered events.\n",
    "\n",
    "- `events` \n",
    "    - the time ordered sequence of events in the session.\n",
    "    - Each event contains 3 pieces of information: `aid`, `ts`, `type`\n",
    "\n",
    "- `aid` \n",
    "    - the article id (product code) of the associated event\n",
    "\n",
    "- `ts` \n",
    "    - the Unix timestamp of the event\n",
    "    - (Unix time is the number of milliseconds that have elapsed since 00:00:00 UTC on 1 January 1970)\n",
    "\n",
    "- `type` \n",
    "    - the event type, i.e., whether a product was clicked (clicks), added to the user's cart (carts), or ordered during the session (orders)"
   ]
  },
  {
   "cell_type": "code",
   "execution_count": 10,
   "id": "daec3fd5",
   "metadata": {
    "execution": {
     "iopub.execute_input": "2022-12-18T14:06:26.355404Z",
     "iopub.status.busy": "2022-12-18T14:06:26.354188Z",
     "iopub.status.idle": "2022-12-18T14:06:26.364146Z",
     "shell.execute_reply": "2022-12-18T14:06:26.362587Z"
    },
    "papermill": {
     "duration": 0.021811,
     "end_time": "2022-12-18T14:06:26.366343",
     "exception": false,
     "start_time": "2022-12-18T14:06:26.344532",
     "status": "completed"
    },
    "tags": []
   },
   "outputs": [
    {
     "name": "stdout",
     "output_type": "stream",
     "text": [
      "This session was 276 actions long \n",
      "\n",
      "The first action in the session: \n",
      " {'aid': 1517085, 'ts': 1659304800025, 'type': 'clicks'} \n",
      "\n",
      "The first session elapsed: 27 days, 13:09:43.682000 \n",
      "\n",
      "The first session contains the following frequency of actions: {'clicks': 255, 'carts': 17, 'orders': 4}\n"
     ]
    }
   ],
   "source": [
    "# Sample the first session in the df\n",
    "example_session = sample_train_df.iloc[0].item()\n",
    "print(f'This session was {len(example_session)} actions long \\n')\n",
    "print(f'The first action in the session: \\n {example_session[0]} \\n')\n",
    "\n",
    "# Time of session\n",
    "time_elapsed = example_session[-1][\"ts\"] - example_session[0][\"ts\"]\n",
    "# The timestamp is in milliseconds since 00:00:00 UTC on 1 January 1970\n",
    "print(f'The first session elapsed: {str(timedelta(milliseconds=time_elapsed))} \\n')\n",
    "\n",
    "# Count the frequency of actions within the session\n",
    "action_counts = {}\n",
    "for action in example_session:\n",
    "    action_counts[action['type']] = action_counts.get(action['type'], 0) + 1  \n",
    "print(f'The first session contains the following frequency of actions: {action_counts}')"
   ]
  },
  {
   "cell_type": "markdown",
   "id": "0d7ee259",
   "metadata": {
    "papermill": {
     "duration": 0.00792,
     "end_time": "2022-12-18T14:06:26.382691",
     "exception": false,
     "start_time": "2022-12-18T14:06:26.374771",
     "status": "completed"
    },
    "tags": []
   },
   "source": [
    "# EDA"
   ]
  },
  {
   "cell_type": "code",
   "execution_count": 11,
   "id": "76d258db",
   "metadata": {
    "execution": {
     "iopub.execute_input": "2022-12-18T14:06:26.401829Z",
     "iopub.status.busy": "2022-12-18T14:06:26.400567Z",
     "iopub.status.idle": "2022-12-18T14:06:44.349977Z",
     "shell.execute_reply": "2022-12-18T14:06:44.348664Z"
    },
    "papermill": {
     "duration": 17.962397,
     "end_time": "2022-12-18T14:06:44.353326",
     "exception": false,
     "start_time": "2022-12-18T14:06:26.390929",
     "status": "completed"
    },
    "tags": []
   },
   "outputs": [
    {
     "data": {
      "application/vnd.jupyter.widget-view+json": {
       "model_id": "79eab27a62224e4e9657a671f3d0c28c",
       "version_major": 2,
       "version_minor": 0
      },
      "text/plain": [
       "  0%|          | 0/100000 [00:00<?, ?it/s]"
      ]
     },
     "metadata": {},
     "output_type": "display_data"
    }
   ],
   "source": [
    "action_counts_list, article_id_counts_list, session_length_time_list, session_length_action_list = ([] for i in range(4))\n",
    "overall_action_counts = {}\n",
    "overall_article_id_counts = {}\n",
    "\n",
    "for i, row in tqdm(sample_train_df.iterrows(), total=len(sample_train_df)):\n",
    "    \n",
    "    actions = row['events']\n",
    "    \n",
    "    # Get the frequency of actions and article_ids\n",
    "    action_counts = {}\n",
    "    article_id_counts = {}\n",
    "    for action in actions:\n",
    "        action_counts[action['type']] = action_counts.get(action['type'], 0) + 1\n",
    "        article_id_counts[action['aid']] = article_id_counts.get(action['aid'], 0) + 1\n",
    "        overall_action_counts[action['type']] = overall_action_counts.get(action['type'], 0) + 1\n",
    "        overall_article_id_counts[action['aid']] = overall_article_id_counts.get(action['aid'], 0) + 1\n",
    "        \n",
    "    # Get the length of the session\n",
    "    session_length_time = actions[-1]['ts'] - actions[0]['ts']\n",
    "    \n",
    "    # Add to list\n",
    "    action_counts_list.append(action_counts)\n",
    "    article_id_counts_list.append(article_id_counts)\n",
    "    session_length_time_list.append(session_length_time)\n",
    "    session_length_action_list.append(len(actions))\n",
    "    \n",
    "sample_train_df['action_counts'] = action_counts_list\n",
    "sample_train_df['article_id_counts'] = article_id_counts_list\n",
    "sample_train_df['session_length_unix'] = session_length_time_list\n",
    "sample_train_df['session_length_hours'] = sample_train_df['session_length_unix']*2.77778e-7  # Convert to hours\n",
    "sample_train_df['session_length_action'] = session_length_action_list"
   ]
  },
  {
   "cell_type": "code",
   "execution_count": 12,
   "id": "e7709ce3",
   "metadata": {
    "execution": {
     "iopub.execute_input": "2022-12-18T14:06:44.373550Z",
     "iopub.status.busy": "2022-12-18T14:06:44.373129Z",
     "iopub.status.idle": "2022-12-18T14:06:44.482775Z",
     "shell.execute_reply": "2022-12-18T14:06:44.481515Z"
    },
    "papermill": {
     "duration": 0.122785,
     "end_time": "2022-12-18T14:06:44.485444",
     "exception": false,
     "start_time": "2022-12-18T14:06:44.362659",
     "status": "completed"
    },
    "tags": []
   },
   "outputs": [
    {
     "data": {
      "text/html": [
       "<div>\n",
       "<style scoped>\n",
       "    .dataframe tbody tr th:only-of-type {\n",
       "        vertical-align: middle;\n",
       "    }\n",
       "\n",
       "    .dataframe tbody tr th {\n",
       "        vertical-align: top;\n",
       "    }\n",
       "\n",
       "    .dataframe thead th {\n",
       "        text-align: right;\n",
       "    }\n",
       "</style>\n",
       "<table border=\"1\" class=\"dataframe\">\n",
       "  <thead>\n",
       "    <tr style=\"text-align: right;\">\n",
       "      <th></th>\n",
       "      <th>events</th>\n",
       "      <th>action_counts</th>\n",
       "      <th>article_id_counts</th>\n",
       "      <th>session_length_unix</th>\n",
       "      <th>session_length_hours</th>\n",
       "      <th>session_length_action</th>\n",
       "    </tr>\n",
       "    <tr>\n",
       "      <th>session</th>\n",
       "      <th></th>\n",
       "      <th></th>\n",
       "      <th></th>\n",
       "      <th></th>\n",
       "      <th></th>\n",
       "      <th></th>\n",
       "    </tr>\n",
       "  </thead>\n",
       "  <tbody>\n",
       "    <tr>\n",
       "      <th>0</th>\n",
       "      <td>[{'aid': 1517085, 'ts': 1659304800025, 'type':...</td>\n",
       "      <td>{'clicks': 255, 'carts': 17, 'orders': 4}</td>\n",
       "      <td>{1517085: 1, 1563459: 1, 1309446: 1, 16246: 1,...</td>\n",
       "      <td>2380183682</td>\n",
       "      <td>661.162663</td>\n",
       "      <td>276</td>\n",
       "    </tr>\n",
       "    <tr>\n",
       "      <th>1</th>\n",
       "      <td>[{'aid': 424964, 'ts': 1659304800025, 'type': ...</td>\n",
       "      <td>{'carts': 8, 'clicks': 24}</td>\n",
       "      <td>{424964: 2, 1492293: 2, 910862: 2, 1491172: 2,...</td>\n",
       "      <td>2410054967</td>\n",
       "      <td>669.460249</td>\n",
       "      <td>32</td>\n",
       "    </tr>\n",
       "    <tr>\n",
       "      <th>2</th>\n",
       "      <td>[{'aid': 763743, 'ts': 1659304800038, 'type': ...</td>\n",
       "      <td>{'clicks': 32, 'carts': 1}</td>\n",
       "      <td>{763743: 1, 137492: 2, 504789: 1, 795863: 2, 3...</td>\n",
       "      <td>2409415621</td>\n",
       "      <td>669.282652</td>\n",
       "      <td>33</td>\n",
       "    </tr>\n",
       "    <tr>\n",
       "      <th>3</th>\n",
       "      <td>[{'aid': 1425967, 'ts': 1659304800095, 'type':...</td>\n",
       "      <td>{'carts': 21, 'clicks': 200, 'orders': 5}</td>\n",
       "      <td>{1425967: 6, 1343406: 14, 1815570: 1, 287008: ...</td>\n",
       "      <td>1804866676</td>\n",
       "      <td>501.352256</td>\n",
       "      <td>226</td>\n",
       "    </tr>\n",
       "    <tr>\n",
       "      <th>4</th>\n",
       "      <td>[{'aid': 613619, 'ts': 1659304800119, 'type': ...</td>\n",
       "      <td>{'clicks': 15, 'orders': 1, 'carts': 3}</td>\n",
       "      <td>{613619: 1, 298827: 2, 383828: 2, 255379: 2, 1...</td>\n",
       "      <td>2281881184</td>\n",
       "      <td>633.856392</td>\n",
       "      <td>19</td>\n",
       "    </tr>\n",
       "  </tbody>\n",
       "</table>\n",
       "</div>"
      ],
      "text/plain": [
       "                                                    events  \\\n",
       "session                                                      \n",
       "0        [{'aid': 1517085, 'ts': 1659304800025, 'type':...   \n",
       "1        [{'aid': 424964, 'ts': 1659304800025, 'type': ...   \n",
       "2        [{'aid': 763743, 'ts': 1659304800038, 'type': ...   \n",
       "3        [{'aid': 1425967, 'ts': 1659304800095, 'type':...   \n",
       "4        [{'aid': 613619, 'ts': 1659304800119, 'type': ...   \n",
       "\n",
       "                                     action_counts  \\\n",
       "session                                              \n",
       "0        {'clicks': 255, 'carts': 17, 'orders': 4}   \n",
       "1                       {'carts': 8, 'clicks': 24}   \n",
       "2                       {'clicks': 32, 'carts': 1}   \n",
       "3        {'carts': 21, 'clicks': 200, 'orders': 5}   \n",
       "4          {'clicks': 15, 'orders': 1, 'carts': 3}   \n",
       "\n",
       "                                         article_id_counts  \\\n",
       "session                                                      \n",
       "0        {1517085: 1, 1563459: 1, 1309446: 1, 16246: 1,...   \n",
       "1        {424964: 2, 1492293: 2, 910862: 2, 1491172: 2,...   \n",
       "2        {763743: 1, 137492: 2, 504789: 1, 795863: 2, 3...   \n",
       "3        {1425967: 6, 1343406: 14, 1815570: 1, 287008: ...   \n",
       "4        {613619: 1, 298827: 2, 383828: 2, 255379: 2, 1...   \n",
       "\n",
       "         session_length_unix  session_length_hours  session_length_action  \n",
       "session                                                                    \n",
       "0                 2380183682            661.162663                    276  \n",
       "1                 2410054967            669.460249                     32  \n",
       "2                 2409415621            669.282652                     33  \n",
       "3                 1804866676            501.352256                    226  \n",
       "4                 2281881184            633.856392                     19  "
      ]
     },
     "execution_count": 12,
     "metadata": {},
     "output_type": "execute_result"
    }
   ],
   "source": [
    "sample_train_df.head()"
   ]
  },
  {
   "cell_type": "code",
   "execution_count": 13,
   "id": "d2f7b83e",
   "metadata": {
    "execution": {
     "iopub.execute_input": "2022-12-18T14:06:44.505782Z",
     "iopub.status.busy": "2022-12-18T14:06:44.505312Z",
     "iopub.status.idle": "2022-12-18T14:06:44.758038Z",
     "shell.execute_reply": "2022-12-18T14:06:44.756749Z"
    },
    "papermill": {
     "duration": 0.266206,
     "end_time": "2022-12-18T14:06:44.760877",
     "exception": false,
     "start_time": "2022-12-18T14:06:44.494671",
     "status": "completed"
    },
    "tags": []
   },
   "outputs": [
    {
     "data": {
      "image/png": "[encoded data removed]",
      "text/plain": [
       "<Figure size 576x432 with 1 Axes>"
      ]
     },
     "metadata": {
      "needs_background": "light"
     },
     "output_type": "display_data"
    }
   ],
   "source": [
    "total_actions = sum(overall_action_counts.values())\n",
    "\n",
    "plt.figure(figsize=(8,6))\n",
    "sns.barplot(x=list(overall_action_counts.keys()), y=[i/total_actions for i in overall_action_counts.values()]);\n",
    "plt.title(f'Action frequency', fontsize=12)\n",
    "plt.ylabel('Count', fontsize=12)\n",
    "plt.xlabel('Category', fontsize=12)\n",
    "plt.show()"
   ]
  },
  {
   "cell_type": "code",
   "execution_count": 14,
   "id": "2b735cf3",
   "metadata": {
    "execution": {
     "iopub.execute_input": "2022-12-18T14:06:44.782646Z",
     "iopub.status.busy": "2022-12-18T14:06:44.781936Z",
     "iopub.status.idle": "2022-12-18T14:06:45.567513Z",
     "shell.execute_reply": "2022-12-18T14:06:45.566689Z"
    },
    "papermill": {
     "duration": 0.799366,
     "end_time": "2022-12-18T14:06:45.569563",
     "exception": false,
     "start_time": "2022-12-18T14:06:44.770197",
     "status": "completed"
    },
    "tags": []
   },
   "outputs": [
    {
     "data": {
      "image/png": "[encoded data removed]",
      "text/plain": [
       "<Figure size 1728x720 with 2 Axes>"
      ]
     },
     "metadata": {
      "needs_background": "light"
     },
     "output_type": "display_data"
    }
   ],
   "source": [
    "fig, ax = plt.subplots(1,2, figsize=(24, 10))\n",
    "\n",
    "p = sns.distplot(sample_train_df['session_length_action'], color=\"y\", bins= 70, ax=ax[0], kde=False)\n",
    "p.set_xlabel(\"Number of actions\", fontsize = 16)\n",
    "p.set_ylabel(\"Density\", fontsize = 16)\n",
    "p.set_title(\"Distribution of the number of actions taken in each session\", fontsize = 14)\n",
    "p.axvline(sample_train_df['session_length_action'].mean(), color='r', linestyle='--', label=\"Mean\")\n",
    "\n",
    "p = sns.distplot(sample_train_df['session_length_hours'], color=\"b\", bins= 70, ax=ax[1], kde=False)\n",
    "p.set_xlabel(\"Hours\", fontsize = 16)\n",
    "p.set_ylabel(\"Density\", fontsize = 16)\n",
    "p.set_title(\"Length of each session\", fontsize = 16);"
   ]
  },
  {
   "cell_type": "code",
   "execution_count": 15,
   "id": "a1d32907",
   "metadata": {
    "execution": {
     "iopub.execute_input": "2022-12-18T14:06:45.592002Z",
     "iopub.status.busy": "2022-12-18T14:06:45.590815Z",
     "iopub.status.idle": "2022-12-18T14:06:45.607811Z",
     "shell.execute_reply": "2022-12-18T14:06:45.606631Z"
    },
    "papermill": {
     "duration": 0.03061,
     "end_time": "2022-12-18T14:06:45.610362",
     "exception": false,
     "start_time": "2022-12-18T14:06:45.579752",
     "status": "completed"
    },
    "tags": []
   },
   "outputs": [
    {
     "data": {
      "text/plain": [
       "count    100000.00000\n",
       "mean         52.27653\n",
       "std          76.86172\n",
       "min           2.00000\n",
       "25%           6.00000\n",
       "50%          19.00000\n",
       "75%          63.00000\n",
       "max         495.00000\n",
       "Name: session_length_action, dtype: float64"
      ]
     },
     "execution_count": 15,
     "metadata": {},
     "output_type": "execute_result"
    }
   ],
   "source": [
    "sample_train_df['session_length_action'].describe()"
   ]
  },
  {
   "cell_type": "code",
   "execution_count": 16,
   "id": "1c887b3d",
   "metadata": {
    "execution": {
     "iopub.execute_input": "2022-12-18T14:06:45.632315Z",
     "iopub.status.busy": "2022-12-18T14:06:45.631834Z",
     "iopub.status.idle": "2022-12-18T14:06:46.039199Z",
     "shell.execute_reply": "2022-12-18T14:06:46.038303Z"
    },
    "papermill": {
     "duration": 0.421449,
     "end_time": "2022-12-18T14:06:46.041636",
     "exception": false,
     "start_time": "2022-12-18T14:06:45.620187",
     "status": "completed"
    },
    "tags": []
   },
   "outputs": [
    {
     "data": {
      "image/png": "[encoded data removed]",
      "text/plain": [
       "<Figure size 576x432 with 1 Axes>"
      ]
     },
     "metadata": {
      "needs_background": "light"
     },
     "output_type": "display_data"
    }
   ],
   "source": [
    "article_id_freq = list(overall_article_id_counts.values())\n",
    "cut_off = [i for i in article_id_freq if i<30]\n",
    "\n",
    "plt.figure(figsize=(8,6))\n",
    "sns.distplot(cut_off, bins=30, kde=False);\n",
    "plt.title(f'Article ID frequency', fontsize=12)\n",
    "plt.ylabel('Count', fontsize=12)\n",
    "plt.xlabel('Article', fontsize=12);"
   ]
  },
  {
   "cell_type": "code",
   "execution_count": 17,
   "id": "c4bb9f01",
   "metadata": {
    "execution": {
     "iopub.execute_input": "2022-12-18T14:06:46.064402Z",
     "iopub.status.busy": "2022-12-18T14:06:46.063020Z",
     "iopub.status.idle": "2022-12-18T14:06:48.876192Z",
     "shell.execute_reply": "2022-12-18T14:06:48.874868Z"
    },
    "papermill": {
     "duration": 2.827252,
     "end_time": "2022-12-18T14:06:48.878886",
     "exception": false,
     "start_time": "2022-12-18T14:06:46.051634",
     "status": "completed"
    },
    "tags": []
   },
   "outputs": [
    {
     "data": {
      "text/plain": [
       "<AxesSubplot:ylabel='Density'>"
      ]
     },
     "execution_count": 17,
     "metadata": {},
     "output_type": "execute_result"
    },
    {
     "data": {
      "image/png": "[encoded data removed]",
      "text/plain": [
       "<Figure size 432x288 with 1 Axes>"
      ]
     },
     "metadata": {
      "needs_background": "light"
     },
     "output_type": "display_data"
    }
   ],
   "source": [
    "sns.distplot(article_id_freq)"
   ]
  },
  {
   "cell_type": "markdown",
   "id": "05d9bc87",
   "metadata": {
    "papermill": {
     "duration": 0.00987,
     "end_time": "2022-12-18T14:06:48.899203",
     "exception": false,
     "start_time": "2022-12-18T14:06:48.889333",
     "status": "completed"
    },
    "tags": []
   },
   "source": [
    "# Baseline"
   ]
  },
  {
   "cell_type": "code",
   "execution_count": 18,
   "id": "21531af4",
   "metadata": {
    "execution": {
     "iopub.execute_input": "2022-12-18T14:06:48.921853Z",
     "iopub.status.busy": "2022-12-18T14:06:48.921412Z",
     "iopub.status.idle": "2022-12-18T14:06:48.949780Z",
     "shell.execute_reply": "2022-12-18T14:06:48.948837Z"
    },
    "papermill": {
     "duration": 0.042858,
     "end_time": "2022-12-18T14:06:48.952326",
     "exception": false,
     "start_time": "2022-12-18T14:06:48.909468",
     "status": "completed"
    },
    "tags": []
   },
   "outputs": [],
   "source": [
    "sample_size = 150\n",
    "chunks = pd.read_json(TEST_PATH, lines=True, chunksize = sample_size)\n",
    "\n",
    "for c in chunks:\n",
    "    sample_test_df = c\n",
    "    break"
   ]
  },
  {
   "cell_type": "code",
   "execution_count": 19,
   "id": "8ea885ab",
   "metadata": {
    "execution": {
     "iopub.execute_input": "2022-12-18T14:06:48.975715Z",
     "iopub.status.busy": "2022-12-18T14:06:48.975240Z",
     "iopub.status.idle": "2022-12-18T14:06:49.019136Z",
     "shell.execute_reply": "2022-12-18T14:06:49.017860Z"
    },
    "papermill": {
     "duration": 0.059155,
     "end_time": "2022-12-18T14:06:49.022095",
     "exception": false,
     "start_time": "2022-12-18T14:06:48.962940",
     "status": "completed"
    },
    "tags": []
   },
   "outputs": [
    {
     "data": {
      "text/html": [
       "<div>\n",
       "<style scoped>\n",
       "    .dataframe tbody tr th:only-of-type {\n",
       "        vertical-align: middle;\n",
       "    }\n",
       "\n",
       "    .dataframe tbody tr th {\n",
       "        vertical-align: top;\n",
       "    }\n",
       "\n",
       "    .dataframe thead th {\n",
       "        text-align: right;\n",
       "    }\n",
       "</style>\n",
       "<table border=\"1\" class=\"dataframe\">\n",
       "  <thead>\n",
       "    <tr style=\"text-align: right;\">\n",
       "      <th></th>\n",
       "      <th>session</th>\n",
       "      <th>events</th>\n",
       "    </tr>\n",
       "  </thead>\n",
       "  <tbody>\n",
       "    <tr>\n",
       "      <th>0</th>\n",
       "      <td>12899779</td>\n",
       "      <td>[{'aid': 59625, 'ts': 1661724000278, 'type': '...</td>\n",
       "    </tr>\n",
       "    <tr>\n",
       "      <th>1</th>\n",
       "      <td>12899780</td>\n",
       "      <td>[{'aid': 1142000, 'ts': 1661724000378, 'type':...</td>\n",
       "    </tr>\n",
       "    <tr>\n",
       "      <th>2</th>\n",
       "      <td>12899781</td>\n",
       "      <td>[{'aid': 141736, 'ts': 1661724000559, 'type': ...</td>\n",
       "    </tr>\n",
       "    <tr>\n",
       "      <th>3</th>\n",
       "      <td>12899782</td>\n",
       "      <td>[{'aid': 1669402, 'ts': 1661724000568, 'type':...</td>\n",
       "    </tr>\n",
       "    <tr>\n",
       "      <th>4</th>\n",
       "      <td>12899783</td>\n",
       "      <td>[{'aid': 255297, 'ts': 1661724000572, 'type': ...</td>\n",
       "    </tr>\n",
       "  </tbody>\n",
       "</table>\n",
       "</div>"
      ],
      "text/plain": [
       "    session                                             events\n",
       "0  12899779  [{'aid': 59625, 'ts': 1661724000278, 'type': '...\n",
       "1  12899780  [{'aid': 1142000, 'ts': 1661724000378, 'type':...\n",
       "2  12899781  [{'aid': 141736, 'ts': 1661724000559, 'type': ...\n",
       "3  12899782  [{'aid': 1669402, 'ts': 1661724000568, 'type':...\n",
       "4  12899783  [{'aid': 255297, 'ts': 1661724000572, 'type': ..."
      ]
     },
     "execution_count": 19,
     "metadata": {},
     "output_type": "execute_result"
    }
   ],
   "source": [
    "sample_test_df.head()"
   ]
  },
  {
   "cell_type": "code",
   "execution_count": 20,
   "id": "214c2d74",
   "metadata": {
    "execution": {
     "iopub.execute_input": "2022-12-18T14:06:49.045549Z",
     "iopub.status.busy": "2022-12-18T14:06:49.045100Z",
     "iopub.status.idle": "2022-12-18T14:06:49.052901Z",
     "shell.execute_reply": "2022-12-18T14:06:49.051495Z"
    },
    "papermill": {
     "duration": 0.022389,
     "end_time": "2022-12-18T14:06:49.055358",
     "exception": false,
     "start_time": "2022-12-18T14:06:49.032969",
     "status": "completed"
    },
    "tags": []
   },
   "outputs": [
    {
     "data": {
      "text/plain": [
       "[{'aid': 59625, 'ts': 1661724000278, 'type': 'clicks'}]"
      ]
     },
     "execution_count": 20,
     "metadata": {},
     "output_type": "execute_result"
    }
   ],
   "source": [
    "sample_test_df.iloc[0, 1]"
   ]
  },
  {
   "cell_type": "code",
   "execution_count": 21,
   "id": "c6b37acf",
   "metadata": {
    "execution": {
     "iopub.execute_input": "2022-12-18T14:06:49.080811Z",
     "iopub.status.busy": "2022-12-18T14:06:49.080330Z",
     "iopub.status.idle": "2022-12-18T14:06:55.911860Z",
     "shell.execute_reply": "2022-12-18T14:06:55.910529Z"
    },
    "papermill": {
     "duration": 6.847912,
     "end_time": "2022-12-18T14:06:55.914523",
     "exception": false,
     "start_time": "2022-12-18T14:06:49.066611",
     "status": "completed"
    },
    "tags": []
   },
   "outputs": [
    {
     "data": {
      "text/html": [
       "<div>\n",
       "<style scoped>\n",
       "    .dataframe tbody tr th:only-of-type {\n",
       "        vertical-align: middle;\n",
       "    }\n",
       "\n",
       "    .dataframe tbody tr th {\n",
       "        vertical-align: top;\n",
       "    }\n",
       "\n",
       "    .dataframe thead th {\n",
       "        text-align: right;\n",
       "    }\n",
       "</style>\n",
       "<table border=\"1\" class=\"dataframe\">\n",
       "  <thead>\n",
       "    <tr style=\"text-align: right;\">\n",
       "      <th></th>\n",
       "      <th>session_type</th>\n",
       "      <th>labels</th>\n",
       "    </tr>\n",
       "  </thead>\n",
       "  <tbody>\n",
       "    <tr>\n",
       "      <th>0</th>\n",
       "      <td>12899779_clicks</td>\n",
       "      <td>129004 126836 118524</td>\n",
       "    </tr>\n",
       "    <tr>\n",
       "      <th>1</th>\n",
       "      <td>12899779_carts</td>\n",
       "      <td>129004 126836 118524</td>\n",
       "    </tr>\n",
       "    <tr>\n",
       "      <th>2</th>\n",
       "      <td>12899779_orders</td>\n",
       "      <td>129004 126836 118524</td>\n",
       "    </tr>\n",
       "    <tr>\n",
       "      <th>3</th>\n",
       "      <td>12899780_clicks</td>\n",
       "      <td>129004 126836 118524</td>\n",
       "    </tr>\n",
       "    <tr>\n",
       "      <th>4</th>\n",
       "      <td>12899780_carts</td>\n",
       "      <td>129004 126836 118524</td>\n",
       "    </tr>\n",
       "  </tbody>\n",
       "</table>\n",
       "</div>"
      ],
      "text/plain": [
       "      session_type                labels\n",
       "0  12899779_clicks  129004 126836 118524\n",
       "1   12899779_carts  129004 126836 118524\n",
       "2  12899779_orders  129004 126836 118524\n",
       "3  12899780_clicks  129004 126836 118524\n",
       "4   12899780_carts  129004 126836 118524"
      ]
     },
     "execution_count": 21,
     "metadata": {},
     "output_type": "execute_result"
    }
   ],
   "source": [
    "sample_submission = pd.read_csv(SAMPLE_SUB_PATH)\n",
    "sample_submission.head()"
   ]
  },
  {
   "cell_type": "code",
   "execution_count": 22,
   "id": "5628ed13",
   "metadata": {
    "execution": {
     "iopub.execute_input": "2022-12-18T14:06:55.938816Z",
     "iopub.status.busy": "2022-12-18T14:06:55.938363Z",
     "iopub.status.idle": "2022-12-18T14:08:27.211066Z",
     "shell.execute_reply": "2022-12-18T14:08:27.209952Z"
    },
    "papermill": {
     "duration": 91.288281,
     "end_time": "2022-12-18T14:08:27.214100",
     "exception": false,
     "start_time": "2022-12-18T14:06:55.925819",
     "status": "completed"
    },
    "tags": []
   },
   "outputs": [],
   "source": [
    "sample_size = 150000\n",
    "chunks = pd.read_json(TRAIN_PATH, lines=True, chunksize = sample_size)\n",
    "\n",
    "clicks_article_list = []\n",
    "carts_article_list = []\n",
    "orders_article_list = []\n",
    "\n",
    "for e, c in enumerate(chunks):\n",
    "    if e > 2:\n",
    "        break\n",
    "    \n",
    "    for i, row in c.iterrows():\n",
    "        actions = row['events']\n",
    "        for action in actions:\n",
    "            if action['type'] == 'clicks':\n",
    "                clicks_article_list.append(action['aid'])\n",
    "            elif action['type'] == 'carts':\n",
    "                carts_article_list.append(action['aid'])\n",
    "            else:\n",
    "                orders_article_list.append(action['aid'])"
   ]
  },
  {
   "cell_type": "code",
   "execution_count": 23,
   "id": "44accb86",
   "metadata": {
    "execution": {
     "iopub.execute_input": "2022-12-18T14:08:27.242113Z",
     "iopub.status.busy": "2022-12-18T14:08:27.240040Z",
     "iopub.status.idle": "2022-12-18T14:08:36.127108Z",
     "shell.execute_reply": "2022-12-18T14:08:36.126049Z"
    },
    "papermill": {
     "duration": 8.903244,
     "end_time": "2022-12-18T14:08:36.129855",
     "exception": false,
     "start_time": "2022-12-18T14:08:27.226611",
     "status": "completed"
    },
    "tags": []
   },
   "outputs": [],
   "source": [
    "# 해당 aid list의 값을 빈도 count\n",
    "article_click_freq = Counter(clicks_article_list)\n",
    "article_carts_freq = Counter(carts_article_list)\n",
    "article_order_freq = Counter(orders_article_list)"
   ]
  },
  {
   "cell_type": "code",
   "execution_count": 24,
   "id": "c018085a",
   "metadata": {
    "execution": {
     "iopub.execute_input": "2022-12-18T14:08:36.154774Z",
     "iopub.status.busy": "2022-12-18T14:08:36.153351Z",
     "iopub.status.idle": "2022-12-18T14:08:36.661408Z",
     "shell.execute_reply": "2022-12-18T14:08:36.659492Z"
    },
    "papermill": {
     "duration": 0.5242,
     "end_time": "2022-12-18T14:08:36.665280",
     "exception": false,
     "start_time": "2022-12-18T14:08:36.141080",
     "status": "completed"
    },
    "tags": []
   },
   "outputs": [],
   "source": [
    "# 상위 20개 추출\n",
    "top_20_click_aid = [aid[0] for aid in article_click_freq.most_common(20)]\n",
    "top_20_carts_aid = [aid[0] for aid in article_carts_freq.most_common(20)]\n",
    "top_20_order_aid = [aid[0] for aid in article_order_freq.most_common(20)]"
   ]
  },
  {
   "cell_type": "code",
   "execution_count": 25,
   "id": "5f44c12c",
   "metadata": {
    "execution": {
     "iopub.execute_input": "2022-12-18T14:08:36.690139Z",
     "iopub.status.busy": "2022-12-18T14:08:36.689686Z",
     "iopub.status.idle": "2022-12-18T14:08:36.695266Z",
     "shell.execute_reply": "2022-12-18T14:08:36.694133Z"
    },
    "papermill": {
     "duration": 0.020692,
     "end_time": "2022-12-18T14:08:36.697892",
     "exception": false,
     "start_time": "2022-12-18T14:08:36.677200",
     "status": "completed"
    },
    "tags": []
   },
   "outputs": [],
   "source": [
    "frequent_articles = {'clicks': top_20_click_aid, 'carts':top_20_carts_aid, 'order':top_20_order_aid}"
   ]
  },
  {
   "cell_type": "code",
   "execution_count": 26,
   "id": "dac428a4",
   "metadata": {
    "execution": {
     "iopub.execute_input": "2022-12-18T14:08:36.721627Z",
     "iopub.status.busy": "2022-12-18T14:08:36.721160Z",
     "iopub.status.idle": "2022-12-18T14:12:33.113970Z",
     "shell.execute_reply": "2022-12-18T14:12:33.112691Z"
    },
    "papermill": {
     "duration": 236.407912,
     "end_time": "2022-12-18T14:12:33.116575",
     "exception": false,
     "start_time": "2022-12-18T14:08:36.708663",
     "status": "completed"
    },
    "tags": []
   },
   "outputs": [
    {
     "data": {
      "application/vnd.jupyter.widget-view+json": {
       "model_id": "d8ccef23b07146c1afb7db25581269f1",
       "version_major": 2,
       "version_minor": 0
      },
      "text/plain": [
       "  0%|          | 0/1671 [00:00<?, ?it/s]"
      ]
     },
     "metadata": {},
     "output_type": "display_data"
    }
   ],
   "source": [
    "test_data = pd.read_json(TEST_PATH, lines=True, chunksize=1000)\n",
    "preds = []\n",
    "\n",
    "for chunk in tqdm(test_data, total=1671):\n",
    "    for i, row in chunk.iterrows():\n",
    "        actions = row['events']\n",
    "        aid_list = []\n",
    "        for action in actions:\n",
    "            aid_list.append(action['aid'])\n",
    "            \n",
    "        article_freq = Counter(aid_list)\n",
    "        top_articles = nlargest(20, article_freq, key=article_freq.get)\n",
    "        \n",
    "        padding_size = 20 - len(top_articles)\n",
    "        for action in ['clicks','carts','order']:\n",
    "            top_articles = top_articles + frequent_articles[action][-padding_size:]\n",
    "            preds.append(\" \".join([str(id) for id in top_articles]))"
   ]
  },
  {
   "cell_type": "code",
   "execution_count": 27,
   "id": "70625a89",
   "metadata": {
    "execution": {
     "iopub.execute_input": "2022-12-18T14:12:33.142440Z",
     "iopub.status.busy": "2022-12-18T14:12:33.141284Z",
     "iopub.status.idle": "2022-12-18T14:13:11.918298Z",
     "shell.execute_reply": "2022-12-18T14:13:11.916849Z"
    },
    "papermill": {
     "duration": 38.793057,
     "end_time": "2022-12-18T14:13:11.921739",
     "exception": false,
     "start_time": "2022-12-18T14:12:33.128682",
     "status": "completed"
    },
    "tags": []
   },
   "outputs": [],
   "source": [
    "sample_submission['labels'] = preds\n",
    "sample_submission.to_csv('submission.csv', index=False)"
   ]
  }
 ],
 "metadata": {
  "kernelspec": {
   "display_name": "Python 3",
   "language": "python",
   "name": "python3"
  },
  "language_info": {
   "codemirror_mode": {
    "name": "ipython",
    "version": 3
   },
   "file_extension": ".py",
   "mimetype": "text/x-python",
   "name": "python",
   "nbconvert_exporter": "python",
   "pygments_lexer": "ipython3",
   "version": "3.7.12"
  },
  "papermill": {
   "default_parameters": {},
   "duration": 569.88124,
   "end_time": "2022-12-18T14:13:16.168808",
   "environment_variables": {},
   "exception": null,
   "input_path": "__notebook__.ipynb",
   "output_path": "__notebook__.ipynb",
   "parameters": {},
   "start_time": "2022-12-18T14:03:46.287568",
   "version": "2.3.4"
  },
  "widgets": {
   "application/vnd.jupyter.widget-state+json": {
    "state": {
     "07479a02afea4519b569ad1b9016b862": {
      "model_module": "@jupyter-widgets/controls",
      "model_module_version": "1.5.0",
      "model_name": "HTMLModel",
      "state": {
       "_dom_classes": [],
       "_model_module": "@jupyter-widgets/controls",
       "_model_module_version": "1.5.0",
       "_model_name": "HTMLModel",
       "_view_count": null,
       "_view_module": "@jupyter-widgets/controls",
       "_view_module_version": "1.5.0",
       "_view_name": "HTMLView",
       "description": "",
       "description_tooltip": null,
       "layout": "IPY_MODEL_75eef50161624a8eb965779f89d253c6",
       "placeholder": "​",
       "style": "IPY_MODEL_8b9ae5f22e7544a8ba942f9f1fb3788e",
       "value": ""
      }
     },
     "07f2d2e122544e009f661e230d350972": {
      "model_module": "@jupyter-widgets/controls",
      "model_module_version": "1.5.0",
      "model_name": "HTMLModel",
      "state": {
       "_dom_classes": [],
       "_model_module": "@jupyter-widgets/controls",
       "_model_module_version": "1.5.0",
       "_model_name": "HTMLModel",
       "_view_count": null,
       "_view_module": "@jupyter-widgets/controls",
       "_view_module_version": "1.5.0",
       "_view_name": "HTMLView",
       "description": "",
       "description_tooltip": null,
       "layout": "IPY_MODEL_1f2c9004e20b4c13bed497a755c05573",
       "placeholder": "​",
       "style": "IPY_MODEL_9146f148bbd7421dae6bf4da9a5636c5",
       "value": "100%"
      }
     },
     "1f2c9004e20b4c13bed497a755c05573": {
      "model_module": "@jupyter-widgets/base",
      "model_module_version": "1.2.0",
      "model_name": "LayoutModel",
      "state": {
       "_model_module": "@jupyter-widgets/base",
       "_model_module_version": "1.2.0",
       "_model_name": "LayoutModel",
       "_view_count": null,
       "_view_module": "@jupyter-widgets/base",
       "_view_module_version": "1.2.0",
       "_view_name": "LayoutView",
       "align_content": null,
       "align_items": null,
       "align_self": null,
       "border": null,
       "bottom": null,
       "display": null,
       "flex": null,
       "flex_flow": null,
       "grid_area": null,
       "grid_auto_columns": null,
       "grid_auto_flow": null,
       "grid_auto_rows": null,
       "grid_column": null,
       "grid_gap": null,
       "grid_row": null,
       "grid_template_areas": null,
       "grid_template_columns": null,
       "grid_template_rows": null,
       "height": null,
       "justify_content": null,
       "justify_items": null,
       "left": null,
       "margin": null,
       "max_height": null,
       "max_width": null,
       "min_height": null,
       "min_width": null,
       "object_fit": null,
       "object_position": null,
       "order": null,
       "overflow": null,
       "overflow_x": null,
       "overflow_y": null,
       "padding": null,
       "right": null,
       "top": null,
       "visibility": null,
       "width": null
      }
     },
     "4b7ed445721b4f62a880ccccdbae03c2": {
      "model_module": "@jupyter-widgets/base",
      "model_module_version": "1.2.0",
      "model_name": "LayoutModel",
      "state": {
       "_model_module": "@jupyter-widgets/base",
       "_model_module_version": "1.2.0",
       "_model_name": "LayoutModel",
       "_view_count": null,
       "_view_module": "@jupyter-widgets/base",
       "_view_module_version": "1.2.0",
       "_view_name": "LayoutView",
       "align_content": null,
       "align_items": null,
       "align_self": null,
       "border": null,
       "bottom": null,
       "display": null,
       "flex": null,
       "flex_flow": null,
       "grid_area": null,
       "grid_auto_columns": null,
       "grid_auto_flow": null,
       "grid_auto_rows": null,
       "grid_column": null,
       "grid_gap": null,
       "grid_row": null,
       "grid_template_areas": null,
       "grid_template_columns": null,
       "grid_template_rows": null,
       "height": null,
       "justify_content": null,
       "justify_items": null,
       "left": null,
       "margin": null,
       "max_height": null,
       "max_width": null,
       "min_height": null,
       "min_width": null,
       "object_fit": null,
       "object_position": null,
       "order": null,
       "overflow": null,
       "overflow_x": null,
       "overflow_y": null,
       "padding": null,
       "right": null,
       "top": null,
       "visibility": null,
       "width": null
      }
     },
     "5a1b03275d65483ebab2d34380bca75c": {
      "model_module": "@jupyter-widgets/base",
      "model_module_version": "1.2.0",
      "model_name": "LayoutModel",
      "state": {
       "_model_module": "@jupyter-widgets/base",
       "_model_module_version": "1.2.0",
       "_model_name": "LayoutModel",
       "_view_count": null,
       "_view_module": "@jupyter-widgets/base",
       "_view_module_version": "1.2.0",
       "_view_name": "LayoutView",
       "align_content": null,
       "align_items": null,
       "align_self": null,
       "border": null,
       "bottom": null,
       "display": null,
       "flex": null,
       "flex_flow": null,
       "grid_area": null,
       "grid_auto_columns": null,
       "grid_auto_flow": null,
       "grid_auto_rows": null,
       "grid_column": null,
       "grid_gap": null,
       "grid_row": null,
       "grid_template_areas": null,
       "grid_template_columns": null,
       "grid_template_rows": null,
       "height": null,
       "justify_content": null,
       "justify_items": null,
       "left": null,
       "margin": null,
       "max_height": null,
       "max_width": null,
       "min_height": null,
       "min_width": null,
       "object_fit": null,
       "object_position": null,
       "order": null,
       "overflow": null,
       "overflow_x": null,
       "overflow_y": null,
       "padding": null,
       "right": null,
       "top": null,
       "visibility": null,
       "width": null
      }
     },
     "72592e3e44f64eaf9ebe30ba6fe54d02": {
      "model_module": "@jupyter-widgets/controls",
      "model_module_version": "1.5.0",
      "model_name": "FloatProgressModel",
      "state": {
       "_dom_classes": [],
       "_model_module": "@jupyter-widgets/controls",
       "_model_module_version": "1.5.0",
       "_model_name": "FloatProgressModel",
       "_view_count": null,
       "_view_module": "@jupyter-widgets/controls",
       "_view_module_version": "1.5.0",
       "_view_name": "ProgressView",
       "bar_style": "success",
       "description": "",
       "description_tooltip": null,
       "layout": "IPY_MODEL_bd87b28107304a39b141eaf6bd8d2565",
       "max": 100000.0,
       "min": 0.0,
       "orientation": "horizontal",
       "style": "IPY_MODEL_d517d15ea2114181b99a645dbe05dfa9",
       "value": 100000.0
      }
     },
     "75eef50161624a8eb965779f89d253c6": {
      "model_module": "@jupyter-widgets/base",
      "model_module_version": "1.2.0",
      "model_name": "LayoutModel",
      "state": {
       "_model_module": "@jupyter-widgets/base",
       "_model_module_version": "1.2.0",
       "_model_name": "LayoutModel",
       "_view_count": null,
       "_view_module": "@jupyter-widgets/base",
       "_view_module_version": "1.2.0",
       "_view_name": "LayoutView",
       "align_content": null,
       "align_items": null,
       "align_self": null,
       "border": null,
       "bottom": null,
       "display": null,
       "flex": null,
       "flex_flow": null,
       "grid_area": null,
       "grid_auto_columns": null,
       "grid_auto_flow": null,
       "grid_auto_rows": null,
       "grid_column": null,
       "grid_gap": null,
       "grid_row": null,
       "grid_template_areas": null,
       "grid_template_columns": null,
       "grid_template_rows": null,
       "height": null,
       "justify_content": null,
       "justify_items": null,
       "left": null,
       "margin": null,
       "max_height": null,
       "max_width": null,
       "min_height": null,
       "min_width": null,
       "object_fit": null,
       "object_position": null,
       "order": null,
       "overflow": null,
       "overflow_x": null,
       "overflow_y": null,
       "padding": null,
       "right": null,
       "top": null,
       "visibility": null,
       "width": null
      }
     },
     "79eab27a62224e4e9657a671f3d0c28c": {
      "model_module": "@jupyter-widgets/controls",
      "model_module_version": "1.5.0",
      "model_name": "HBoxModel",
      "state": {
       "_dom_classes": [],
       "_model_module": "@jupyter-widgets/controls",
       "_model_module_version": "1.5.0",
       "_model_name": "HBoxModel",
       "_view_count": null,
       "_view_module": "@jupyter-widgets/controls",
       "_view_module_version": "1.5.0",
       "_view_name": "HBoxView",
       "box_style": "",
       "children": [
        "IPY_MODEL_07f2d2e122544e009f661e230d350972",
        "IPY_MODEL_72592e3e44f64eaf9ebe30ba6fe54d02",
        "IPY_MODEL_d57b3458d32c425f8431c2cd85d66318"
       ],
       "layout": "IPY_MODEL_4b7ed445721b4f62a880ccccdbae03c2"
      }
     },
     "8b9ae5f22e7544a8ba942f9f1fb3788e": {
      "model_module": "@jupyter-widgets/controls",
      "model_module_version": "1.5.0",
      "model_name": "DescriptionStyleModel",
      "state": {
       "_model_module": "@jupyter-widgets/controls",
       "_model_module_version": "1.5.0",
       "_model_name": "DescriptionStyleModel",
       "_view_count": null,
       "_view_module": "@jupyter-widgets/base",
       "_view_module_version": "1.2.0",
       "_view_name": "StyleView",
       "description_width": ""
      }
     },
     "8d1d83fe58e74dd4a2b7daae06914088": {
      "model_module": "@jupyter-widgets/base",
      "model_module_version": "1.2.0",
      "model_name": "LayoutModel",
      "state": {
       "_model_module": "@jupyter-widgets/base",
       "_model_module_version": "1.2.0",
       "_model_name": "LayoutModel",
       "_view_count": null,
       "_view_module": "@jupyter-widgets/base",
       "_view_module_version": "1.2.0",
       "_view_name": "LayoutView",
       "align_content": null,
       "align_items": null,
       "align_self": null,
       "border": null,
       "bottom": null,
       "display": null,
       "flex": null,
       "flex_flow": null,
       "grid_area": null,
       "grid_auto_columns": null,
       "grid_auto_flow": null,
       "grid_auto_rows": null,
       "grid_column": null,
       "grid_gap": null,
       "grid_row": null,
       "grid_template_areas": null,
       "grid_template_columns": null,
       "grid_template_rows": null,
       "height": null,
       "justify_content": null,
       "justify_items": null,
       "left": null,
       "margin": null,
       "max_height": null,
       "max_width": null,
       "min_height": null,
       "min_width": null,
       "object_fit": null,
       "object_position": null,
       "order": null,
       "overflow": null,
       "overflow_x": null,
       "overflow_y": null,
       "padding": null,
       "right": null,
       "top": null,
       "visibility": null,
       "width": null
      }
     },
     "8eb1f01671824a5b816407ca01f61829": {
      "model_module": "@jupyter-widgets/base",
      "model_module_version": "1.2.0",
      "model_name": "LayoutModel",
      "state": {
       "_model_module": "@jupyter-widgets/base",
       "_model_module_version": "1.2.0",
       "_model_name": "LayoutModel",
       "_view_count": null,
       "_view_module": "@jupyter-widgets/base",
       "_view_module_version": "1.2.0",
       "_view_name": "LayoutView",
       "align_content": null,
       "align_items": null,
       "align_self": null,
       "border": null,
       "bottom": null,
       "display": null,
       "flex": null,
       "flex_flow": null,
       "grid_area": null,
       "grid_auto_columns": null,
       "grid_auto_flow": null,
       "grid_auto_rows": null,
       "grid_column": null,
       "grid_gap": null,
       "grid_row": null,
       "grid_template_areas": null,
       "grid_template_columns": null,
       "grid_template_rows": null,
       "height": null,
       "justify_content": null,
       "justify_items": null,
       "left": null,
       "margin": null,
       "max_height": null,
       "max_width": null,
       "min_height": null,
       "min_width": null,
       "object_fit": null,
       "object_position": null,
       "order": null,
       "overflow": null,
       "overflow_x": null,
       "overflow_y": null,
       "padding": null,
       "right": null,
       "top": null,
       "visibility": null,
       "width": null
      }
     },
     "9146f148bbd7421dae6bf4da9a5636c5": {
      "model_module": "@jupyter-widgets/controls",
      "model_module_version": "1.5.0",
      "model_name": "DescriptionStyleModel",
      "state": {
       "_model_module": "@jupyter-widgets/controls",
       "_model_module_version": "1.5.0",
       "_model_name": "DescriptionStyleModel",
       "_view_count": null,
       "_view_module": "@jupyter-widgets/base",
       "_view_module_version": "1.2.0",
       "_view_name": "StyleView",
       "description_width": ""
      }
     },
     "b601823c1a7c4e818a0fca677fb5d3b2": {
      "model_module": "@jupyter-widgets/controls",
      "model_module_version": "1.5.0",
      "model_name": "HTMLModel",
      "state": {
       "_dom_classes": [],
       "_model_module": "@jupyter-widgets/controls",
       "_model_module_version": "1.5.0",
       "_model_name": "HTMLModel",
       "_view_count": null,
       "_view_module": "@jupyter-widgets/controls",
       "_view_module_version": "1.5.0",
       "_view_name": "HTMLView",
       "description": "",
       "description_tooltip": null,
       "layout": "IPY_MODEL_8eb1f01671824a5b816407ca01f61829",
       "placeholder": "​",
       "style": "IPY_MODEL_e3781002750f4001825d4461448ee58d",
       "value": " 1672/? [03:56&lt;00:00,  8.03it/s]"
      }
     },
     "b766f889398d47cd88b473bbd3852ab4": {
      "model_module": "@jupyter-widgets/base",
      "model_module_version": "1.2.0",
      "model_name": "LayoutModel",
      "state": {
       "_model_module": "@jupyter-widgets/base",
       "_model_module_version": "1.2.0",
       "_model_name": "LayoutModel",
       "_view_count": null,
       "_view_module": "@jupyter-widgets/base",
       "_view_module_version": "1.2.0",
       "_view_name": "LayoutView",
       "align_content": null,
       "align_items": null,
       "align_self": null,
       "border": null,
       "bottom": null,
       "display": null,
       "flex": null,
       "flex_flow": null,
       "grid_area": null,
       "grid_auto_columns": null,
       "grid_auto_flow": null,
       "grid_auto_rows": null,
       "grid_column": null,
       "grid_gap": null,
       "grid_row": null,
       "grid_template_areas": null,
       "grid_template_columns": null,
       "grid_template_rows": null,
       "height": null,
       "justify_content": null,
       "justify_items": null,
       "left": null,
       "margin": null,
       "max_height": null,
       "max_width": null,
       "min_height": null,
       "min_width": null,
       "object_fit": null,
       "object_position": null,
       "order": null,
       "overflow": null,
       "overflow_x": null,
       "overflow_y": null,
       "padding": null,
       "right": null,
       "top": null,
       "visibility": null,
       "width": null
      }
     },
     "bd87b28107304a39b141eaf6bd8d2565": {
      "model_module": "@jupyter-widgets/base",
      "model_module_version": "1.2.0",
      "model_name": "LayoutModel",
      "state": {
       "_model_module": "@jupyter-widgets/base",
       "_model_module_version": "1.2.0",
       "_model_name": "LayoutModel",
       "_view_count": null,
       "_view_module": "@jupyter-widgets/base",
       "_view_module_version": "1.2.0",
       "_view_name": "LayoutView",
       "align_content": null,
       "align_items": null,
       "align_self": null,
       "border": null,
       "bottom": null,
       "display": null,
       "flex": null,
       "flex_flow": null,
       "grid_area": null,
       "grid_auto_columns": null,
       "grid_auto_flow": null,
       "grid_auto_rows": null,
       "grid_column": null,
       "grid_gap": null,
       "grid_row": null,
       "grid_template_areas": null,
       "grid_template_columns": null,
       "grid_template_rows": null,
       "height": null,
       "justify_content": null,
       "justify_items": null,
       "left": null,
       "margin": null,
       "max_height": null,
       "max_width": null,
       "min_height": null,
       "min_width": null,
       "object_fit": null,
       "object_position": null,
       "order": null,
       "overflow": null,
       "overflow_x": null,
       "overflow_y": null,
       "padding": null,
       "right": null,
       "top": null,
       "visibility": null,
       "width": null
      }
     },
     "d517d15ea2114181b99a645dbe05dfa9": {
      "model_module": "@jupyter-widgets/controls",
      "model_module_version": "1.5.0",
      "model_name": "ProgressStyleModel",
      "state": {
       "_model_module": "@jupyter-widgets/controls",
       "_model_module_version": "1.5.0",
       "_model_name": "ProgressStyleModel",
       "_view_count": null,
       "_view_module": "@jupyter-widgets/base",
       "_view_module_version": "1.2.0",
       "_view_name": "StyleView",
       "bar_color": null,
       "description_width": ""
      }
     },
     "d57b3458d32c425f8431c2cd85d66318": {
      "model_module": "@jupyter-widgets/controls",
      "model_module_version": "1.5.0",
      "model_name": "HTMLModel",
      "state": {
       "_dom_classes": [],
       "_model_module": "@jupyter-widgets/controls",
       "_model_module_version": "1.5.0",
       "_model_name": "HTMLModel",
       "_view_count": null,
       "_view_module": "@jupyter-widgets/controls",
       "_view_module_version": "1.5.0",
       "_view_name": "HTMLView",
       "description": "",
       "description_tooltip": null,
       "layout": "IPY_MODEL_b766f889398d47cd88b473bbd3852ab4",
       "placeholder": "​",
       "style": "IPY_MODEL_e31fe3ca745e4b7b9aad4ef8c4953da2",
       "value": " 100000/100000 [00:17&lt;00:00, 5295.21it/s]"
      }
     },
     "d8ccef23b07146c1afb7db25581269f1": {
      "model_module": "@jupyter-widgets/controls",
      "model_module_version": "1.5.0",
      "model_name": "HBoxModel",
      "state": {
       "_dom_classes": [],
       "_model_module": "@jupyter-widgets/controls",
       "_model_module_version": "1.5.0",
       "_model_name": "HBoxModel",
       "_view_count": null,
       "_view_module": "@jupyter-widgets/controls",
       "_view_module_version": "1.5.0",
       "_view_name": "HBoxView",
       "box_style": "",
       "children": [
        "IPY_MODEL_07479a02afea4519b569ad1b9016b862",
        "IPY_MODEL_f3f54700031744b782f36066c878b1e0",
        "IPY_MODEL_b601823c1a7c4e818a0fca677fb5d3b2"
       ],
       "layout": "IPY_MODEL_8d1d83fe58e74dd4a2b7daae06914088"
      }
     },
     "e31fe3ca745e4b7b9aad4ef8c4953da2": {
      "model_module": "@jupyter-widgets/controls",
      "model_module_version": "1.5.0",
      "model_name": "DescriptionStyleModel",
      "state": {
       "_model_module": "@jupyter-widgets/controls",
       "_model_module_version": "1.5.0",
       "_model_name": "DescriptionStyleModel",
       "_view_count": null,
       "_view_module": "@jupyter-widgets/base",
       "_view_module_version": "1.2.0",
       "_view_name": "StyleView",
       "description_width": ""
      }
     },
     "e3781002750f4001825d4461448ee58d": {
      "model_module": "@jupyter-widgets/controls",
      "model_module_version": "1.5.0",
      "model_name": "DescriptionStyleModel",
      "state": {
       "_model_module": "@jupyter-widgets/controls",
       "_model_module_version": "1.5.0",
       "_model_name": "DescriptionStyleModel",
       "_view_count": null,
       "_view_module": "@jupyter-widgets/base",
       "_view_module_version": "1.2.0",
       "_view_name": "StyleView",
       "description_width": ""
      }
     },
     "e456d255b9814f0a959a65229ea2279d": {
      "model_module": "@jupyter-widgets/controls",
      "model_module_version": "1.5.0",
      "model_name": "ProgressStyleModel",
      "state": {
       "_model_module": "@jupyter-widgets/controls",
       "_model_module_version": "1.5.0",
       "_model_name": "ProgressStyleModel",
       "_view_count": null,
       "_view_module": "@jupyter-widgets/base",
       "_view_module_version": "1.2.0",
       "_view_name": "StyleView",
       "bar_color": null,
       "description_width": ""
      }
     },
     "f3f54700031744b782f36066c878b1e0": {
      "model_module": "@jupyter-widgets/controls",
      "model_module_version": "1.5.0",
      "model_name": "FloatProgressModel",
      "state": {
       "_dom_classes": [],
       "_model_module": "@jupyter-widgets/controls",
       "_model_module_version": "1.5.0",
       "_model_name": "FloatProgressModel",
       "_view_count": null,
       "_view_module": "@jupyter-widgets/controls",
       "_view_module_version": "1.5.0",
       "_view_name": "ProgressView",
       "bar_style": "success",
       "description": "",
       "description_tooltip": null,
       "layout": "IPY_MODEL_5a1b03275d65483ebab2d34380bca75c",
       "max": 1671.0,
       "min": 0.0,
       "orientation": "horizontal",
       "style": "IPY_MODEL_e456d255b9814f0a959a65229ea2279d",
       "value": 1671.0
      }
     }
    },
    "version_major": 2,
    "version_minor": 0
   }
  }
 },
 "nbformat": 4,
 "nbformat_minor": 5
}
