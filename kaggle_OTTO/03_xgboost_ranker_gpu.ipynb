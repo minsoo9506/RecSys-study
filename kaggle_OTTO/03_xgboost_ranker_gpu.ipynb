{
 "cells": [
  {
   "cell_type": "markdown",
   "id": "b2e1914d",
   "metadata": {},
   "source": [
    "- https://www.kaggle.com/code/radek1/training-an-xgboost-ranker-on-the-gpu"
   ]
  },
  {
   "attachments": {},
   "cell_type": "markdown",
   "id": "004d0e4c",
   "metadata": {
    "_cell_guid": "b1076dfc-b9ad-4769-8c92-a6c4dae69d19",
    "_uuid": "8f2839f25d086af736a60e9eeb907d3b93b6e0e5",
    "papermill": {
     "duration": 0.005843,
     "end_time": "2022-12-12T15:12:57.936459",
     "exception": false,
     "start_time": "2022-12-12T15:12:57.930616",
     "status": "completed"
    },
    "tags": []
   },
   "source": [
    "- `XGBoost Ranker`를 GPU를 통해 훈련시킨다.\n",
    "- Training with `XGBoost` however offers more additional advantages. In comparison to `LGBM`, `XGBoost` allows you to train with the following objectives (`LGBM` gives you access to a single loss only for ranking, training with different objectives is a great way of improving your ensemble!):\n",
    "    - `rank:pairwise`\n",
    "    - `rank:ndcg`\n",
    "    - `rank:map`\n",
    "- As we want to focus on feature engineering and training lets offload all the low level, tedious considerations to the `Merlin Framework`!\n",
    "- In this notebook, we will introduce the entire pipeline. \n",
    "    - We will preprocess our data on the GPU using a library specifically designed for tabular data preprocessing, `NVTabular`.\n",
    "    - We will then proceed to train our `XGBoost` model with `Merlin Models`.\n",
    "    - In the background  we will leverage `dask_cuda` and distributed training to optimize the use of available GPU RAM, but we will let the libraries handle all that! No additional configuration will be required from us."
   ]
  },
  {
   "cell_type": "markdown",
   "id": "809e7537",
   "metadata": {
    "papermill": {
     "duration": 0.004601,
     "end_time": "2022-12-12T15:12:57.945714",
     "exception": false,
     "start_time": "2022-12-12T15:12:57.941113",
     "status": "completed"
    },
    "tags": []
   },
   "source": [
    "# Libraries installation\n",
    "\n",
    "We will need a couple of libraries that do not come preinstalled on the Kaggle VM. Let's install them here."
   ]
  },
  {
   "cell_type": "code",
   "execution_count": 1,
   "id": "232f3f6d",
   "metadata": {
    "execution": {
     "iopub.execute_input": "2022-12-12T15:12:57.957137Z",
     "iopub.status.busy": "2022-12-12T15:12:57.956099Z",
     "iopub.status.idle": "2022-12-12T15:14:42.144155Z",
     "shell.execute_reply": "2022-12-12T15:14:42.142747Z"
    },
    "papermill": {
     "duration": 104.196882,
     "end_time": "2022-12-12T15:14:42.147149",
     "exception": false,
     "start_time": "2022-12-12T15:12:57.950267",
     "status": "completed"
    },
    "tags": []
   },
   "outputs": [],
   "source": [
    "%%capture\n",
    "\n",
    "!pip install nvtabular==1.3.3 merlin-models polars merlin-core==v0.4.0 dask_cuda"
   ]
  },
  {
   "cell_type": "markdown",
   "id": "70744453",
   "metadata": {
    "papermill": {
     "duration": 0.004839,
     "end_time": "2022-12-12T15:14:42.157218",
     "exception": false,
     "start_time": "2022-12-12T15:14:42.152379",
     "status": "completed"
    },
    "tags": []
   },
   "source": [
    "# Data Processing"
   ]
  },
  {
   "cell_type": "markdown",
   "id": "6b9fd072",
   "metadata": {
    "papermill": {
     "duration": 0.004702,
     "end_time": "2022-12-12T15:14:42.166661",
     "exception": false,
     "start_time": "2022-12-12T15:14:42.161959",
     "status": "completed"
    },
    "tags": []
   },
   "source": [
    "We will briefly preprocess our data using polars. After that step, we will hand it over to `NVTabular` to tag our data (so that our model will know where to find the information it needs for training)."
   ]
  },
  {
   "cell_type": "code",
   "execution_count": 2,
   "id": "22a0d9c8",
   "metadata": {
    "execution": {
     "iopub.execute_input": "2022-12-12T15:14:42.178690Z",
     "iopub.status.busy": "2022-12-12T15:14:42.177673Z",
     "iopub.status.idle": "2022-12-12T15:14:46.372352Z",
     "shell.execute_reply": "2022-12-12T15:14:46.371332Z"
    },
    "papermill": {
     "duration": 4.203531,
     "end_time": "2022-12-12T15:14:46.374818",
     "exception": false,
     "start_time": "2022-12-12T15:14:42.171287",
     "status": "completed"
    },
    "tags": []
   },
   "outputs": [],
   "source": [
    "from nvtabular import *\n",
    "from merlin.schema.tags import Tags\n",
    "import polars as pl\n",
    "import xgboost as xgb\n",
    "\n",
    "from merlin.core.utils import Distributed\n",
    "from merlin.models.xgb import XGBoost\n",
    "from nvtabular.ops import AddTags"
   ]
  },
  {
   "cell_type": "code",
   "execution_count": 3,
   "id": "fccd4120",
   "metadata": {
    "execution": {
     "iopub.execute_input": "2022-12-12T15:14:46.388817Z",
     "iopub.status.busy": "2022-12-12T15:14:46.388104Z",
     "iopub.status.idle": "2022-12-12T15:14:58.503232Z",
     "shell.execute_reply": "2022-12-12T15:14:58.502263Z"
    },
    "papermill": {
     "duration": 12.125107,
     "end_time": "2022-12-12T15:14:58.505719",
     "exception": false,
     "start_time": "2022-12-12T15:14:46.380612",
     "status": "completed"
    },
    "tags": []
   },
   "outputs": [],
   "source": [
    "train = pl.read_parquet('../input/otto-train-and-test-data-for-local-validation/test.parquet')\n",
    "train_labels = pl.read_parquet('../input/otto-train-and-test-data-for-local-validation/test_labels.parquet')\n",
    "\n",
    "def add_action_num_reverse_chrono(df):\n",
    "    return df.select([\n",
    "        pl.col('*'),\n",
    "        pl.col('session').cumcount().reverse().over('session').alias('action_num_reverse_chrono')\n",
    "    ])\n",
    "\n",
    "def add_session_length(df):\n",
    "    return df.select([\n",
    "        pl.col('*'),\n",
    "        pl.col('session').count().over('session').alias('session_length')\n",
    "    ])\n",
    "\n",
    "def add_log_recency_score(df):\n",
    "    linear_interpolation = 0.1 + ((1-0.1) / (df['session_length']-1)) * (df['session_length']-df['action_num_reverse_chrono']-1)\n",
    "    return df.with_columns(pl.Series(2**linear_interpolation - 1).alias('log_recency_score')).fill_nan(1)\n",
    "\n",
    "def add_type_weighted_log_recency_score(df):\n",
    "    type_weights = {0:1, 1:6, 2:3}\n",
    "    type_weighted_log_recency_score = pl.Series(df['type'].apply(lambda x: type_weights[x]) * df['log_recency_score'])\n",
    "    return df.with_column(type_weighted_log_recency_score.alias('type_weighted_log_recency_score'))\n",
    "\n",
    "def apply(df, pipeline):\n",
    "    for f in pipeline:\n",
    "        df = f(df)\n",
    "    return df\n",
    "\n",
    "pipeline = [add_action_num_reverse_chrono, add_session_length, add_log_recency_score, add_type_weighted_log_recency_score]\n",
    "\n",
    "train = apply(train, pipeline)\n",
    "\n",
    "type2id = {\"clicks\": 0, \"carts\": 1, \"orders\": 2}\n",
    "\n",
    "train_labels = train_labels.explode('ground_truth').with_columns([\n",
    "    pl.col('ground_truth').alias('aid'),\n",
    "    pl.col('type').apply(lambda x: type2id[x])\n",
    "])[['session', 'type', 'aid']]\n",
    "\n",
    "train_labels = train_labels.with_columns([\n",
    "    pl.col('session').cast(pl.datatypes.Int32),\n",
    "    pl.col('type').cast(pl.datatypes.UInt8),\n",
    "    pl.col('aid').cast(pl.datatypes.Int32)\n",
    "])\n",
    "\n",
    "train_labels = train_labels.with_column(pl.lit(1).alias('gt'))\n",
    "\n",
    "train = train.join(train_labels, how='left', on=['session', 'type', 'aid']).with_column(pl.col('gt').fill_null(0))"
   ]
  },
  {
   "cell_type": "markdown",
   "id": "df5bd650",
   "metadata": {
    "papermill": {
     "duration": 0.004416,
     "end_time": "2022-12-12T15:14:58.516894",
     "exception": false,
     "start_time": "2022-12-12T15:14:58.512478",
     "status": "completed"
    },
    "tags": []
   },
   "source": [
    "Let us now define the preprocessing steps we would like to apply to our data."
   ]
  },
  {
   "cell_type": "code",
   "execution_count": 4,
   "id": "c987827d",
   "metadata": {
    "execution": {
     "iopub.execute_input": "2022-12-12T15:14:58.527271Z",
     "iopub.status.busy": "2022-12-12T15:14:58.526928Z",
     "iopub.status.idle": "2022-12-12T15:15:01.070373Z",
     "shell.execute_reply": "2022-12-12T15:15:01.069399Z"
    },
    "papermill": {
     "duration": 2.551807,
     "end_time": "2022-12-12T15:15:01.073159",
     "exception": false,
     "start_time": "2022-12-12T15:14:58.521352",
     "status": "completed"
    },
    "tags": []
   },
   "outputs": [],
   "source": [
    "train_ds = Dataset(train.to_pandas())\n",
    "\n",
    "feature_cols = ['aid', 'type','action_num_reverse_chrono', 'session_length', 'log_recency_score', 'type_weighted_log_recency_score']\n",
    "target = ['gt'] >> AddTags([Tags.TARGET])\n",
    "qid_column = ['session'] >>  AddTags([Tags.USER_ID]) # we will use sessions as a query ID column\n",
    "                                                     # in XGBoost parlance this a way of grouping together for training\n",
    "                                                     # when training with LGBM we had to calculate session lengths, but here the model does all the work for us!"
   ]
  },
  {
   "cell_type": "markdown",
   "id": "292d9a2a",
   "metadata": {
    "papermill": {
     "duration": 0.004332,
     "end_time": "2022-12-12T15:15:01.082444",
     "exception": false,
     "start_time": "2022-12-12T15:15:01.078112",
     "status": "completed"
    },
    "tags": []
   },
   "source": [
    "Having defined the preprocessing steps, we can now apply them to our data. The preprocessing is going to run on the GPU!"
   ]
  },
  {
   "cell_type": "code",
   "execution_count": 5,
   "id": "4039a5e2",
   "metadata": {
    "execution": {
     "iopub.execute_input": "2022-12-12T15:15:01.093829Z",
     "iopub.status.busy": "2022-12-12T15:15:01.092445Z",
     "iopub.status.idle": "2022-12-12T15:15:01.152340Z",
     "shell.execute_reply": "2022-12-12T15:15:01.151428Z"
    },
    "papermill": {
     "duration": 0.06738,
     "end_time": "2022-12-12T15:15:01.154418",
     "exception": false,
     "start_time": "2022-12-12T15:15:01.087038",
     "status": "completed"
    },
    "tags": []
   },
   "outputs": [],
   "source": [
    "wf = Workflow(feature_cols + target + qid_column)\n",
    "train_processed = wf.fit_transform(train_ds)"
   ]
  },
  {
   "cell_type": "markdown",
   "id": "9a61e92b",
   "metadata": {
    "papermill": {
     "duration": 0.00431,
     "end_time": "2022-12-12T15:15:01.163767",
     "exception": false,
     "start_time": "2022-12-12T15:15:01.159457",
     "status": "completed"
    },
    "tags": []
   },
   "source": [
    "# Model training"
   ]
  },
  {
   "cell_type": "code",
   "execution_count": 6,
   "id": "b89f67f9",
   "metadata": {
    "execution": {
     "iopub.execute_input": "2022-12-12T15:15:01.174425Z",
     "iopub.status.busy": "2022-12-12T15:15:01.173658Z",
     "iopub.status.idle": "2022-12-12T15:15:01.178431Z",
     "shell.execute_reply": "2022-12-12T15:15:01.177622Z"
    },
    "papermill": {
     "duration": 0.011984,
     "end_time": "2022-12-12T15:15:01.180355",
     "exception": false,
     "start_time": "2022-12-12T15:15:01.168371",
     "status": "completed"
    },
    "tags": []
   },
   "outputs": [],
   "source": [
    "ranker = XGBoost(train_processed.schema, objective='rank:pairwise')"
   ]
  },
  {
   "cell_type": "markdown",
   "id": "c7602237",
   "metadata": {
    "papermill": {
     "duration": 0.004504,
     "end_time": "2022-12-12T15:15:01.189208",
     "exception": false,
     "start_time": "2022-12-12T15:15:01.184704",
     "status": "completed"
    },
    "tags": []
   },
   "source": [
    "The `Distributed` context manager will start a dask cudf cluster of us. A Dask cluster will be able to better manage memory usage for us. Normally, setting it up would be quite tedious -- here, we get all the benefits with a single line of Python code!"
   ]
  },
  {
   "cell_type": "code",
   "execution_count": 7,
   "id": "0fa66172",
   "metadata": {
    "execution": {
     "iopub.execute_input": "2022-12-12T15:15:01.199332Z",
     "iopub.status.busy": "2022-12-12T15:15:01.199072Z",
     "iopub.status.idle": "2022-12-12T15:16:21.380029Z",
     "shell.execute_reply": "2022-12-12T15:16:21.379151Z"
    },
    "papermill": {
     "duration": 80.189545,
     "end_time": "2022-12-12T15:16:21.383245",
     "exception": false,
     "start_time": "2022-12-12T15:15:01.193700",
     "status": "completed"
    },
    "tags": []
   },
   "outputs": [
    {
     "name": "stderr",
     "output_type": "stream",
     "text": [
      "distributed.preloading - INFO - Import preload module: dask_cuda.initialize\n",
      "/opt/conda/lib/python3.7/site-packages/xgboost/dask.py:884: RuntimeWarning: coroutine 'Client._wait_for_workers' was never awaited\n",
      "  client.wait_for_workers(n_workers)\n",
      "[15:15:09] task [xgboost.dask-0]:tcp://127.0.0.1:46365 got new rank 0\n"
     ]
    },
    {
     "name": "stdout",
     "output_type": "stream",
     "text": [
      "[0]\ttrain-map:0.93747\n",
      "[1]\ttrain-map:0.93780\n",
      "[2]\ttrain-map:0.93820\n",
      "[3]\ttrain-map:0.93825\n",
      "[4]\ttrain-map:0.93830\n",
      "[5]\ttrain-map:0.93833\n",
      "[6]\ttrain-map:0.93841\n",
      "[7]\ttrain-map:0.93842\n",
      "[8]\ttrain-map:0.93844\n",
      "[9]\ttrain-map:0.93848\n"
     ]
    }
   ],
   "source": [
    "# version mismatch doesn't result in a loss of functionality here for us\n",
    "# it stems from the versions of libraries that the Kaggle vm comes preinstalled with\n",
    "\n",
    "with Distributed():\n",
    "    ranker.fit(train_processed)"
   ]
  },
  {
   "cell_type": "markdown",
   "id": "50bee67c",
   "metadata": {
    "papermill": {
     "duration": 0.007343,
     "end_time": "2022-12-12T15:16:21.403058",
     "exception": false,
     "start_time": "2022-12-12T15:16:21.395715",
     "status": "completed"
    },
    "tags": []
   },
   "source": [
    "We have now trained our model! Let's predict on test!"
   ]
  },
  {
   "cell_type": "markdown",
   "id": "81b1377e",
   "metadata": {
    "papermill": {
     "duration": 0.00889,
     "end_time": "2022-12-12T15:16:21.417346",
     "exception": false,
     "start_time": "2022-12-12T15:16:21.408456",
     "status": "completed"
    },
    "tags": []
   },
   "source": [
    "# Predict on test data"
   ]
  },
  {
   "cell_type": "markdown",
   "id": "8c8be1ee",
   "metadata": {
    "papermill": {
     "duration": 0.005002,
     "end_time": "2022-12-12T15:16:21.430900",
     "exception": false,
     "start_time": "2022-12-12T15:16:21.425898",
     "status": "completed"
    },
    "tags": []
   },
   "source": [
    "Let's load our test set, process it and predict on it."
   ]
  },
  {
   "cell_type": "code",
   "execution_count": 8,
   "id": "3af8d7c7",
   "metadata": {
    "execution": {
     "iopub.execute_input": "2022-12-12T15:16:21.442913Z",
     "iopub.status.busy": "2022-12-12T15:16:21.442600Z",
     "iopub.status.idle": "2022-12-12T15:16:30.563273Z",
     "shell.execute_reply": "2022-12-12T15:16:30.562197Z"
    },
    "papermill": {
     "duration": 9.129923,
     "end_time": "2022-12-12T15:16:30.566165",
     "exception": false,
     "start_time": "2022-12-12T15:16:21.436242",
     "status": "completed"
    },
    "tags": []
   },
   "outputs": [],
   "source": [
    "test = pl.read_parquet('../input/otto-full-optimized-memory-footprint/test.parquet')\n",
    "test = apply(test, pipeline)\n",
    "test_ds = Dataset(test.to_pandas())\n",
    "\n",
    "wf = wf.remove_inputs(['gt']) # we don't have ground truth information in test!\n",
    "\n",
    "test_ds_transformed = wf.transform(test_ds)"
   ]
  },
  {
   "cell_type": "markdown",
   "id": "2d4b0112",
   "metadata": {
    "papermill": {
     "duration": 0.005417,
     "end_time": "2022-12-12T15:16:30.577466",
     "exception": false,
     "start_time": "2022-12-12T15:16:30.572049",
     "status": "completed"
    },
    "tags": []
   },
   "source": [
    "Let's output the predictions"
   ]
  },
  {
   "cell_type": "code",
   "execution_count": 9,
   "id": "27ee48d3",
   "metadata": {
    "execution": {
     "iopub.execute_input": "2022-12-12T15:16:30.590309Z",
     "iopub.status.busy": "2022-12-12T15:16:30.589450Z",
     "iopub.status.idle": "2022-12-12T15:16:33.124328Z",
     "shell.execute_reply": "2022-12-12T15:16:33.123342Z"
    },
    "papermill": {
     "duration": 2.543838,
     "end_time": "2022-12-12T15:16:33.126844",
     "exception": false,
     "start_time": "2022-12-12T15:16:30.583006",
     "status": "completed"
    },
    "tags": []
   },
   "outputs": [],
   "source": [
    "test_preds = ranker.booster.predict(xgb.DMatrix(test_ds_transformed.compute()))"
   ]
  },
  {
   "cell_type": "markdown",
   "id": "e139f989",
   "metadata": {
    "papermill": {
     "duration": 0.005361,
     "end_time": "2022-12-12T15:16:33.137859",
     "exception": false,
     "start_time": "2022-12-12T15:16:33.132498",
     "status": "completed"
    },
    "tags": []
   },
   "source": [
    "# Create submission"
   ]
  },
  {
   "cell_type": "code",
   "execution_count": 10,
   "id": "052886fa",
   "metadata": {
    "execution": {
     "iopub.execute_input": "2022-12-12T15:16:33.150523Z",
     "iopub.status.busy": "2022-12-12T15:16:33.149788Z",
     "iopub.status.idle": "2022-12-12T15:16:34.124386Z",
     "shell.execute_reply": "2022-12-12T15:16:34.123373Z"
    },
    "papermill": {
     "duration": 0.983738,
     "end_time": "2022-12-12T15:16:34.127061",
     "exception": false,
     "start_time": "2022-12-12T15:16:33.143323",
     "status": "completed"
    },
    "tags": []
   },
   "outputs": [],
   "source": [
    "test = test.with_columns(pl.Series(name='score', values=test_preds))\n",
    "test_predictions = test.sort(['session', 'score'], reverse=True).groupby('session').agg([\n",
    "    pl.col('aid').limit(20).list()\n",
    "])"
   ]
  },
  {
   "cell_type": "code",
   "execution_count": 11,
   "id": "75804db2",
   "metadata": {
    "execution": {
     "iopub.execute_input": "2022-12-12T15:16:34.140159Z",
     "iopub.status.busy": "2022-12-12T15:16:34.139470Z",
     "iopub.status.idle": "2022-12-12T15:16:45.044308Z",
     "shell.execute_reply": "2022-12-12T15:16:45.042174Z"
    },
    "papermill": {
     "duration": 10.914489,
     "end_time": "2022-12-12T15:16:45.047391",
     "exception": false,
     "start_time": "2022-12-12T15:16:34.132902",
     "status": "completed"
    },
    "tags": []
   },
   "outputs": [],
   "source": [
    "session_types = []\n",
    "labels = []\n",
    "\n",
    "for session, preds in zip(test_predictions['session'].to_numpy(), test_predictions['aid'].to_numpy()):\n",
    "    l = ' '.join(str(p) for p in preds)\n",
    "    for session_type in ['clicks', 'carts', 'orders']:\n",
    "        labels.append(l)\n",
    "        session_types.append(f'{session}_{session_type}')"
   ]
  },
  {
   "cell_type": "code",
   "execution_count": 12,
   "id": "48df271a",
   "metadata": {
    "execution": {
     "iopub.execute_input": "2022-12-12T15:16:45.061690Z",
     "iopub.status.busy": "2022-12-12T15:16:45.060895Z",
     "iopub.status.idle": "2022-12-12T15:16:47.749468Z",
     "shell.execute_reply": "2022-12-12T15:16:47.747836Z"
    },
    "papermill": {
     "duration": 2.701023,
     "end_time": "2022-12-12T15:16:47.755030",
     "exception": false,
     "start_time": "2022-12-12T15:16:45.054007",
     "status": "completed"
    },
    "tags": []
   },
   "outputs": [],
   "source": [
    "submission = pl.DataFrame({'session_type': session_types, 'labels': labels})\n",
    "submission.write_csv('submission.csv')"
   ]
  }
 ],
 "metadata": {
  "kernelspec": {
   "display_name": "nlp",
   "language": "python",
   "name": "python3"
  },
  "language_info": {
   "codemirror_mode": {
    "name": "ipython",
    "version": 3
   },
   "file_extension": ".py",
   "mimetype": "text/x-python",
   "name": "python",
   "nbconvert_exporter": "python",
   "pygments_lexer": "ipython3",
   "version": "3.9.13 (main, May 24 2022, 22:40:11) \n[GCC 9.4.0]"
  },
  "papermill": {
   "default_parameters": {},
   "duration": 241.205645,
   "end_time": "2022-12-12T15:16:50.783338",
   "environment_variables": {},
   "exception": null,
   "input_path": "__notebook__.ipynb",
   "output_path": "__notebook__.ipynb",
   "parameters": {},
   "start_time": "2022-12-12T15:12:49.577693",
   "version": "2.3.4"
  },
  "vscode": {
   "interpreter": {
    "hash": "8c68d4e82246607c407fe48e8ea8c83604bff69a3864f23665571bb2eafd238d"
   }
  }
 },
 "nbformat": 4,
 "nbformat_minor": 5
}
